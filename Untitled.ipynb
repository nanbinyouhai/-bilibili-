{
 "cells": [
  {
   "cell_type": "markdown",
   "id": "04e7b713",
   "metadata": {},
   "source": [
    "# 读取数据"
   ]
  },
  {
   "cell_type": "code",
   "execution_count": 2,
   "id": "dea8f451",
   "metadata": {
    "scrolled": true
   },
   "outputs": [],
   "source": [
    "import pandas as pd\n",
    "df=pd.read_csv(r\"D:\\微软浏览器默认下载\\huanhuan\\huanhuan\\bilibili.csv\")\n"
   ]
  },
  {
   "cell_type": "markdown",
   "id": "74884893",
   "metadata": {},
   "source": [
    "# 筛选视频上传数量大于5的up主"
   ]
  },
  {
   "cell_type": "code",
   "execution_count": 3,
   "id": "69a214f4",
   "metadata": {},
   "outputs": [
    {
     "name": "stdout",
     "output_type": "stream",
     "text": [
      "         分区  author   coins   danmu  favorite   likes  reply   share     view  \\\n",
      "1      科学科普   鹿哥来了-     0.0     0.0       0.0     0.0    0.0     0.0      1.0   \n",
      "2      科学科普   鹿哥来了-  1067.0  1009.0     329.0  1562.0  524.0   125.0  16632.0   \n",
      "3      科学科普   鹿哥来了-  5977.0  1809.0    8161.0  7270.0  766.0  1886.0  84672.0   \n",
      "4      科学科普   鹿哥来了-   114.0    21.0      55.0   245.0   57.0    40.0   4218.0   \n",
      "5      科学科普   鹿哥来了-   102.0    12.0      88.0   222.0   45.0    62.0   4157.0   \n",
      "...     ...     ...     ...     ...       ...     ...    ...     ...      ...   \n",
      "99291  科学科普  马卡良星系链     0.0     0.0       0.0     1.0    0.0     0.0     19.0   \n",
      "99292  科学科普  马卡良星系链     1.0     0.0       2.0     1.0    1.0     1.0     18.0   \n",
      "99293  科学科普  马卡良星系链     0.0     0.0       2.0     0.0    0.0     2.0     46.0   \n",
      "99294  科学科普  马卡良星系链     0.0     0.0       1.0     1.0    0.0     1.0     87.0   \n",
      "99295  科学科普  马卡良星系链     1.0     0.0       0.0     5.0    0.0     2.0     75.0   \n",
      "\n",
      "                                         title                date  视频数量  \n",
      "1                    【科普】历史上最杠精的人，从逻辑层面让你怀疑人生。 2020-05-31 16:58:37     6  \n",
      "2                           【艺术】用贝多芬Diss惊雷会怎样？ 2020-04-17 11:00:59     6  \n",
      "3                   【艺术】从巴赫到音乐的本质，改变音乐认知的一期视频。 2020-02-16 11:21:47     6  \n",
      "4           【科普】为啥病毒每次都跟蝙蝠有关？蝙蝠的身体有多强悍，什么是干扰素？ 2020-02-12 14:19:16     6  \n",
      "5              【科普】我们与细菌到底什么关系，为什么全身细菌的我们不会生病？ 2020-02-07 16:30:31     6  \n",
      "...                                        ...                 ...   ...  \n",
      "99291  【TED】光污染 : John Garrett at TEDxTemecula 2020-01-01 16:46:26     9  \n",
      "99292          【4K原片】Lost in Light II 光污染短片（二） 2020-01-01 16:41:06     9  \n",
      "99293                【4K原片】Lost in Light 光污染短片 2020-01-01 16:31:37     9  \n",
      "99294                         【4K延时】一个没有光污染的世界 2020-01-01 16:03:22     9  \n",
      "99295                 【PBS双语】我们正在失去夜空吗？【光污染科普】 2020-01-01 11:34:44     9  \n",
      "\n",
      "[61952 rows x 12 columns]\n"
     ]
    }
   ],
   "source": [
    "view_counts=df['coins'].groupby(df['author']).count()\n",
    "view_counts=view_counts.reset_index()\n",
    "view_counts.columns=['author','视频数量']\n",
    "merge_data=pd.merge(df,view_counts)\n",
    "merge_data['date']=pd.to_datetime(merge_data['date'])\n",
    "data_viewcounts5=merge_data[merge_data['视频数量']>5]\n",
    "print(data_viewcounts5)"
   ]
  },
  {
   "cell_type": "markdown",
   "id": "6c108f17",
   "metadata": {},
   "source": [
    "# 计算IFL"
   ]
  },
  {
   "cell_type": "markdown",
   "id": "2cae1577",
   "metadata": {},
   "source": [
    "## 计算I值 "
   ]
  },
  {
   "cell_type": "code",
   "execution_count": 3,
   "id": "03a02072",
   "metadata": {
    "collapsed": true
   },
   "outputs": [
    {
     "name": "stdout",
     "output_type": "stream",
     "text": [
      "            coins  danmu  favorite   likes   reply  share      view  视频数量\n",
      "author                                                                   \n",
      "-LCspace-   429.0  659.0    2376.0  4986.0  1001.0  391.0  139730.0   900\n",
      "-LEARNING-  116.0   22.0     167.0   282.0    97.0  102.0    5597.0  4356\n",
      "-TDA君-      559.0   84.0     319.0  2685.0   232.0   42.0   18988.0   196\n",
      "-兔星人-       273.0   96.0     491.0  1471.0   827.0   81.0   23153.0   484\n",
      "-洗冤集錄-        0.0    0.0       2.0    14.0     2.0    2.0     679.0    49\n",
      "...           ...    ...       ...     ...     ...    ...       ...   ...\n",
      "龙普聊科技        17.0   69.0     134.0   684.0   397.0   22.0  100921.0  1764\n",
      "龙王の女         10.0   10.0      17.0    99.0    20.0    1.0    2967.0    49\n",
      "龙眠山人紫微斗数     12.0    2.0       9.0    29.0    15.0    2.0     683.0    49\n",
      "龙鱼在线          0.0    0.0       7.0     3.0     0.0    3.0     263.0   100\n",
      "龚老师地理课堂      47.0    1.0      54.0    87.0    12.0   20.0    2109.0    36\n",
      "\n",
      "[3314 rows x 8 columns]\n"
     ]
    }
   ],
   "source": [
    "data_sum=data_viewcounts5.groupby('author').sum()\n",
    "print(data_sum)\n",
    "\n",
    "I=(data_sum['danmu']+data_sum['reply'])/data_sum['view']/data_sum['视频数量']*100\n"
   ]
  },
  {
   "cell_type": "markdown",
   "id": "4568bd59",
   "metadata": {},
   "source": [
    "## 计算F值 "
   ]
  },
  {
   "cell_type": "code",
   "execution_count": 4,
   "id": "3555b2d0",
   "metadata": {
    "collapsed": true
   },
   "outputs": [
    {
     "name": "stdout",
     "output_type": "stream",
     "text": [
      "author\n",
      "-LCspace-    0 days 03:44:57.273333333\n",
      "-LEARNING-   0 days 00:27:47.529155188\n",
      "-TDA君-       0 days 06:36:15.423469387\n",
      "-兔星人-        0 days 06:49:29.770661157\n",
      "-洗冤集錄-       0 days 04:05:59.122448979\n",
      "                        ...           \n",
      "龙普聊科技        0 days 00:51:24.976757369\n",
      "龙王の女         0 days 09:58:34.448979591\n",
      "龙眠山人紫微斗数     0 days 05:31:23.183673469\n",
      "龙鱼在线            0 days 00:08:12.670000\n",
      "龚老师地理课堂      1 days 07:59:56.166666666\n",
      "Length: 3314, dtype: timedelta64[ns]\n"
     ]
    }
   ],
   "source": [
    "Release_date_last=data_viewcounts5['date'].groupby(data_viewcounts5['author']).max()\n",
    "Release_date_early=data_viewcounts5['date'].groupby(data_viewcounts5['author']).min()\n",
    "F=(Release_date_last-Release_date_early)/data_sum['视频数量']\n",
    "print(F)"
   ]
  },
  {
   "cell_type": "markdown",
   "id": "7104d89f",
   "metadata": {},
   "source": [
    "## 计算L值"
   ]
  },
  {
   "cell_type": "code",
   "execution_count": 5,
   "id": "6df6dd9f",
   "metadata": {
    "collapsed": true
   },
   "outputs": [
    {
     "name": "stdout",
     "output_type": "stream",
     "text": [
      "author\n",
      "-LCspace-     0.055758\n",
      "-LEARNING-    0.100947\n",
      "-TDA君-        0.187645\n",
      "-兔星人-         0.096532\n",
      "-洗冤集錄-        0.023564\n",
      "                ...   \n",
      "龙普聊科技         0.008274\n",
      "龙王の女          0.042467\n",
      "龙眠山人紫微斗数      0.073206\n",
      "龙鱼在线          0.038023\n",
      "龚老师地理课堂       0.089142\n",
      "Length: 3314, dtype: float64\n"
     ]
    }
   ],
   "source": [
    "L=(data_sum['coins']+data_sum['favorite']+data_sum['likes'])/data_sum['view']\n",
    "print(L)"
   ]
  },
  {
   "cell_type": "markdown",
   "id": "a51e44a6",
   "metadata": {},
   "source": [
    "## 横向合并I、F、L值"
   ]
  },
  {
   "cell_type": "code",
   "execution_count": 6,
   "id": "fb32524b",
   "metadata": {
    "collapsed": true
   },
   "outputs": [
    {
     "name": "stdout",
     "output_type": "stream",
     "text": [
      "                   I                         F         L\n",
      "author                                                  \n",
      "-LCspace-   0.001320 0 days 03:44:57.273333333  0.055758\n",
      "-LEARNING-  0.000488 0 days 00:27:47.529155188  0.100947\n",
      "-TDA君-      0.008491 0 days 06:36:15.423469387  0.187645\n",
      "-兔星人-       0.008237 0 days 06:49:29.770661157  0.096532\n",
      "-洗冤集錄-      0.006011 0 days 04:05:59.122448979  0.023564\n",
      "...              ...                       ...       ...\n",
      "龙普聊科技       0.000262 0 days 00:51:24.976757369  0.008274\n",
      "龙王の女        0.020635 0 days 09:58:34.448979591  0.042467\n",
      "龙眠山人紫微斗数    0.050796 0 days 05:31:23.183673469  0.073206\n",
      "龙鱼在线        0.000000    0 days 00:08:12.670000  0.038023\n",
      "龚老师地理课堂     0.017122 1 days 07:59:56.166666666  0.089142\n",
      "\n",
      "[3314 rows x 3 columns]\n"
     ]
    }
   ],
   "source": [
    "statistic_data=pd.concat([I,F,L],axis=1)\n",
    "statistic_data.columns=['I','F','L']\n",
    "print(statistic_data)"
   ]
  },
  {
   "cell_type": "markdown",
   "id": "fdc10f8d",
   "metadata": {},
   "source": [
    "## 标记分层"
   ]
  },
  {
   "cell_type": "code",
   "execution_count": 7,
   "id": "f7a6b231",
   "metadata": {
    "collapsed": true
   },
   "outputs": [
    {
     "name": "stdout",
     "output_type": "stream",
     "text": [
      "            I  F  L\n",
      "author             \n",
      "-LCspace-   2  4  3\n",
      "-LEARNING-  1  5  4\n",
      "-TDA君-      3  3  5\n",
      "-兔星人-       3  3  4\n",
      "-洗冤集錄-      3  3  1\n",
      "...        .. .. ..\n",
      "龙普聊科技       1  5  1\n",
      "龙王の女        4  2  2\n",
      "龙眠山人紫微斗数    5  3  4\n",
      "龙鱼在线        1  5  2\n",
      "龚老师地理课堂     4  1  4\n",
      "\n",
      "[3314 rows x 3 columns]\n"
     ]
    }
   ],
   "source": [
    "statistic_data['I']=pd.qcut(statistic_data['I'],q=5,labels=[1,2,3,4,5])\n",
    "statistic_data['F']=pd.qcut(statistic_data['F'],q=5,labels=[5,4,3,2,1])\n",
    "statistic_data['L']=pd.qcut(statistic_data['L'],q=5,labels=[1,2,3,4,5])\n",
    "print(statistic_data)"
   ]
  },
  {
   "cell_type": "markdown",
   "id": "a3d29fa1",
   "metadata": {},
   "source": [
    "## 转换数据为1和0"
   ]
  },
  {
   "cell_type": "code",
   "execution_count": 8,
   "id": "bcce006b",
   "metadata": {},
   "outputs": [],
   "source": [
    "def transform(x):\n",
    "    if x>3:\n",
    "        return 1\n",
    "    else:\n",
    "        return 0\n",
    "statistic_data['I']=statistic_data['I'].apply(transform)\n",
    "statistic_data['F']=statistic_data['F'].apply(transform)\n",
    "statistic_data['L']=statistic_data['L'].apply(transform)\n"
   ]
  },
  {
   "cell_type": "markdown",
   "id": "5170e070",
   "metadata": {},
   "source": [
    "## 拼接1、0数据为字符串"
   ]
  },
  {
   "cell_type": "code",
   "execution_count": 9,
   "id": "a3c9d198",
   "metadata": {
    "collapsed": true
   },
   "outputs": [
    {
     "name": "stdout",
     "output_type": "stream",
     "text": [
      "            I  F  L mark\n",
      "author                  \n",
      "-LCspace-   0  1  0  010\n",
      "-LEARNING-  0  1  1  011\n",
      "-TDA君-      0  0  1  001\n",
      "-兔星人-       0  0  1  001\n",
      "-洗冤集錄-      0  0  0  000\n",
      "...        .. .. ..  ...\n",
      "龙普聊科技       0  1  0  010\n",
      "龙王の女        1  0  0  100\n",
      "龙眠山人紫微斗数    1  0  1  101\n",
      "龙鱼在线        0  1  0  010\n",
      "龚老师地理课堂     1  0  1  101\n",
      "\n",
      "[3314 rows x 4 columns]\n"
     ]
    }
   ],
   "source": [
    "statistic_data['mark']=statistic_data['I'].astype(str)+statistic_data['F'].astype(str)+statistic_data['L'].astype(str)\n",
    "print(statistic_data)"
   ]
  },
  {
   "cell_type": "markdown",
   "id": "22e81c22",
   "metadata": {},
   "source": [
    "## 标记分层结果"
   ]
  },
  {
   "cell_type": "code",
   "execution_count": 10,
   "id": "1f6df035",
   "metadata": {
    "collapsed": true
   },
   "outputs": [
    {
     "name": "stdout",
     "output_type": "stream",
     "text": [
      "            I  F  L          mark\n",
      "author                           \n",
      "-LCspace-   0  1  0         活跃UP主\n",
      "-LEARNING-  0  1  1    高质量内容高深up主\n",
      "-TDA君-      0  0  1  高质量内容高深拖更up主\n",
      "-兔星人-       0  0  1  高质量内容高深拖更up主\n",
      "-洗冤集錄-      0  0  0      还在成长的UP主\n",
      "...        .. .. ..           ...\n",
      "龙普聊科技       0  1  0         活跃UP主\n",
      "龙王の女        1  0  0        接地气UP主\n",
      "龙眠山人紫微斗数    1  0  1      高质量拖更up主\n",
      "龙鱼在线        0  1  0         活跃UP主\n",
      "龚老师地理课堂     1  0  1      高质量拖更up主\n",
      "\n",
      "[3314 rows x 4 columns]\n"
     ]
    }
   ],
   "source": [
    "def marker(x):\n",
    "    if x=='111':\n",
    "        return \"高质量up主\"\n",
    "    if x=='101':\n",
    "        return \"高质量拖更up主\"\n",
    "    if x=='011':\n",
    "        return '高质量内容高深up主'\n",
    "    if x=='001':\n",
    "        return \"高质量内容高深拖更up主\"\n",
    "    if x=='110':\n",
    "        return \"接地气活跃UP主\"\n",
    "    if x=='100':\n",
    "        return \"接地气UP主\"\n",
    "    if x=='010':\n",
    "        return \"活跃UP主\"\n",
    "    if x=='000':\n",
    "        return \"还在成长的UP主\"\n",
    "statistic_data['mark']=statistic_data['mark'].apply(marker)\n",
    "print(statistic_data)\n",
    "    "
   ]
  },
  {
   "cell_type": "markdown",
   "id": "d1801d49",
   "metadata": {},
   "source": [
    "## 统计每类up主占比"
   ]
  },
  {
   "cell_type": "code",
   "execution_count": 15,
   "id": "d40321eb",
   "metadata": {
    "collapsed": true
   },
   "outputs": [
    {
     "name": "stdout",
     "output_type": "stream",
     "text": [
      "mark\n",
      "接地气UP主          0.138503\n",
      "接地气活跃UP主        0.037719\n",
      "活跃UP主           0.236572\n",
      "还在成长的UP主        0.187085\n",
      "高质量up主          0.033494\n",
      "高质量内容高深up主      0.092336\n",
      "高质量内容高深拖更up主    0.083887\n",
      "高质量拖更up主        0.190404\n",
      "Name: mark, dtype: float64\n"
     ]
    }
   ],
   "source": [
    "type_counts=statistic_data['mark'].groupby(statistic_data['mark']).count()\n",
    "type_percent=type_counts/3314\n",
    "print(type_percent)"
   ]
  },
  {
   "cell_type": "markdown",
   "id": "ba1c05d2",
   "metadata": {},
   "source": [
    "## 柱状图展示结果"
   ]
  },
  {
   "cell_type": "code",
   "execution_count": 23,
   "id": "f99fa07a",
   "metadata": {},
   "outputs": [
    {
     "data": {
      "image/png": "[encoded data removed]",
      "text/plain": [
       "<Figure size 640x480 with 1 Axes>"
      ]
     },
     "metadata": {},
     "output_type": "display_data"
    }
   ],
   "source": [
    "import matplotlib.pyplot as plt\n",
    "plt.rcParams[\"font.sans-serif\"] = \"SimHei\"\n",
    "plt.bar(type_percent.index,type_percent.values)\n",
    "plt.xticks(rotation=45)\n",
    "plt.show()"
   ]
  }
 ],
 "metadata": {
  "kernelspec": {
   "display_name": "Python 3 (ipykernel)",
   "language": "python",
   "name": "python3"
  },
  "language_info": {
   "codemirror_mode": {
    "name": "ipython",
    "version": 3
   },
   "file_extension": ".py",
   "mimetype": "text/x-python",
   "name": "python",
   "nbconvert_exporter": "python",
   "pygments_lexer": "ipython3",
   "version": "3.9.13"
  }
 },
 "nbformat": 4,
 "nbformat_minor": 5
}
